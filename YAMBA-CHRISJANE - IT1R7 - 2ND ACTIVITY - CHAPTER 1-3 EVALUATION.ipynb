{
 "cells": [
  {
   "cell_type": "code",
   "execution_count": 1,
   "id": "european-discipline",
   "metadata": {},
   "outputs": [
    {
     "name": "stdout",
     "output_type": "stream",
     "text": [
      "Discussed your learnings on Chapter 1 time - from 8:00 - 30:35. Minimum of 200 Chapter\n",
      "Chapter 1 i  learned are the following\n",
      "Data structure is a way to store and organize data In order to facilitate \n",
      " Algorithm is thus a sequences of computational steps that transform the input into the output.\n",
      "There are foundation terms of data structure:\n",
      "1. Interface  data structure supports.\n",
      "2. Implementation provides the internal representation of data structure.\n",
      "There are three Characteristics of a data structure  are the following:\n",
      "1.Correctness data structure implementation should its interface correctly.\n",
      "2. Time Complexity running time or the execution time of operations of data structure must be as small as posible.\n",
      "3. Space Complexity memory usage of a data structure.\n",
      "Execution time cases there are  three cases which are usually used execution time \n",
      "1. Worst cases\n",
      "2. Average cases\n",
      "3. Best cases\n",
      "we should learn data structure and algorithm as applications are getting complex and data rich.\n",
      "There are three common problems that applications face now a days\n",
      "1. Data search\n",
      "2. Processor speed\n",
      "3. Multiple request\n",
      "Applications of data structure and algorithm are:\n",
      "*Search a item in a data structure\n",
      "*Sort  item in a cerntain order\n",
      "*Insert item in a data structure.\n",
      "*Update  an existing item from a data structure.\n",
      "*Delete an existing item from a data structure.\n",
      "Basic Terminology- Data, Data item, Grouo item, Elementary item, Attribute and Entity, Entity set, Field, Record, File\n",
      "Thats are i learned in Chapter 1 \n",
      "End Program\n"
     ]
    }
   ],
   "source": [
    "print('Discussed your learnings on Chapter 1 time - from 8:00 - 30:35. Minimum of 200 Chapter')\n",
    "\n",
    "print('Chapter 1 i  learned are the following')\n",
    "print('Data structure is a way to store and organize data In order to facilitate ')\n",
    "print(' Algorithm is thus a sequences of computational steps that transform the input into the output.')\n",
    "print('There are foundation terms of data structure:')\n",
    "print('1. Interface  data structure supports.')\n",
    "print('2. Implementation provides the internal representation of data structure.')\n",
    "print('There are three Characteristics of a data structure  are the following:')\n",
    "print('1.Correctness data structure implementation should its interface correctly.')\n",
    "print('2. Time Complexity running time or the execution time of operations of data structure must be as small as posible.')\n",
    "print('3. Space Complexity memory usage of a data structure.')\n",
    "print('Execution time cases there are  three cases which are usually used execution time ')\n",
    "print('1. Worst cases')\n",
    "print('2. Average cases')\n",
    "print('3. Best cases')\n",
    "print('we should learn data structure and algorithm as applications are getting complex and data rich.')\n",
    "print('There are three common problems that applications face now a days')\n",
    "print('1. Data search')\n",
    "print('2. Processor speed')\n",
    "print('3. Multiple request')\n",
    "print('Applications of data structure and algorithm are:')\n",
    "print('*Search a item in a data structure')\n",
    "print('*Sort  item in a cerntain order')\n",
    "print('*Insert item in a data structure.')\n",
    "print('*Update  an existing item from a data structure.')\n",
    "print('*Delete an existing item from a data structure.')\n",
    "print('Basic Terminology- Data, Data item, Grouo item, Elementary item, Attribute and Entity, Entity set, Field, Record, File')\n",
    "print('Thats are i learned in Chapter 1 ')\n",
    "print('End Program')"
   ]
  },
  {
   "cell_type": "code",
   "execution_count": 2,
   "id": "oriented-inspection",
   "metadata": {},
   "outputs": [
    {
     "name": "stdout",
     "output_type": "stream",
     "text": [
      "Discussed your learnings on Chapter 2 time - from 5:00 - 9:00. Minimum of 200 Chapter\n",
      " I  learned in Chapter 2 about Data structures Basic concepts. Data definition are Atomic should define single concept, Traceable able to mapped data elements, Accurate be unambiguous, Clear and concise should be understandable\n",
      "Data object is a object having a data. Data type is a way to classify various. These are two data types \n",
      "1. Built in data type a language has built in support - Integers, Boolean, Floating and Character and strings \n",
      "Derived Data types are implementation independent - List, Array, Stack and Queue\n",
      "Basic operations the data structures are processed by certain operations - Traversing, Searching, Insertion, Deletion, Sorting and Merging\n",
      "thats are i learned in chapter 2\n",
      "End Program\n"
     ]
    }
   ],
   "source": [
    "print('Discussed your learnings on Chapter 2 time - from 5:00 - 9:00. Minimum of 200 Chapter')\n",
    "\n",
    "print(' I  learned in Chapter 2 about Data structures Basic concepts. Data definition are Atomic should define single concept, Traceable able to mapped data elements, Accurate be unambiguous, Clear and concise should be understandable')\n",
    "print('Data object is a object having a data. Data type is a way to classify various. These are two data types ')\n",
    "print('1. Built in data type a language has built in support - Integers, Boolean, Floating and Character and strings ')\n",
    "print('Derived Data types are implementation independent - List, Array, Stack and Queue')\n",
    "print('Basic operations the data structures are processed by certain operations - Traversing, Searching, Insertion, Deletion, Sorting and Merging')\n",
    "print('thats are i learned in chapter 2')\n",
    "print('End Program')"
   ]
  },
  {
   "cell_type": "code",
   "execution_count": 3,
   "id": "motivated-dubai",
   "metadata": {},
   "outputs": [
    {
     "name": "stdout",
     "output_type": "stream",
     "text": [
      "Discussed your learnings on Chapter 2 time - from 3:00 - 18:00. Minimum of 200 Chapter\n",
      " I  learned in Chapter 3 its all about Data structures and Algorithms arrays. Array is a container which can hold a fix number of item that should be the same type. Concept of array are the following\n",
      "Element each stored in an array \n",
      "Index each locatiom of an element in an array\n",
      "Array Representation arrays can be declared in various ways in diffent languages\n",
      "Basic Operations supported by an array Traverse, Insertion, Deletion, Search, Update\n",
      "Array is created in Pyhton by importing array to the Pyhton program. Typecode are the codes that are used to define the type of value the array will hold some common typecodes. Accessing array Element can access each element of an array using the index of the element.\n",
      " thats all i learn in chapter 3\n",
      "End Program\n"
     ]
    }
   ],
   "source": [
    "print('Discussed your learnings on Chapter 2 time - from 3:00 - 18:00. Minimum of 200 Chapter')\n",
    "\n",
    "print(' I  learned in Chapter 3 its all about Data structures and Algorithms arrays. Array is a container which can hold a fix number of item that should be the same type. Concept of array are the following')\n",
    "print('Element each stored in an array ')\n",
    "print('Index each locatiom of an element in an array')\n",
    "print('Array Representation arrays can be declared in various ways in diffent languages')\n",
    "print('Basic Operations supported by an array Traverse, Insertion, Deletion, Search, Update')\n",
    "print('Array is created in Pyhton by importing array to the Pyhton program. Typecode are the codes that are used to define the type of value the array will hold some common typecodes. Accessing array Element can access each element of an array using the index of the element.')\n",
    "print(' thats all i learn in chapter 3')\n",
    "print('End Program')"
   ]
  },
  {
   "cell_type": "code",
   "execution_count": 4,
   "id": "personalized-fiber",
   "metadata": {},
   "outputs": [
    {
     "name": "stdout",
     "output_type": "stream",
     "text": [
      "50\n",
      "70\n",
      "55\n",
      "90\n"
     ]
    }
   ],
   "source": [
    "from array import *\n",
    "array1 = array('I',[50, 60, 70, 80, 90])\n",
    "array1.remove(60)\n",
    "array1[2] = 55\n",
    "for y in array1:\n",
    "    print(y)"
   ]
  },
  {
   "cell_type": "code",
   "execution_count": null,
   "id": "activated-contamination",
   "metadata": {},
   "outputs": [],
   "source": []
  }
 ],
 "metadata": {
  "kernelspec": {
   "display_name": "Python 3",
   "language": "python",
   "name": "python3"
  },
  "language_info": {
   "codemirror_mode": {
    "name": "ipython",
    "version": 3
   },
   "file_extension": ".py",
   "mimetype": "text/x-python",
   "name": "python",
   "nbconvert_exporter": "python",
   "pygments_lexer": "ipython3",
   "version": "3.9.2"
  }
 },
 "nbformat": 4,
 "nbformat_minor": 5
}
